{
 "cells": [
  {
   "cell_type": "code",
   "execution_count": 2,
   "metadata": {},
   "outputs": [],
   "source": [
    "import pandas as pd\n",
    "import json"
   ]
  },
  {
   "cell_type": "code",
   "execution_count": 3,
   "metadata": {},
   "outputs": [
    {
     "data": {
      "text/plain": [
       "id              0\n",
       "name            0\n",
       "location        0\n",
       "items           0\n",
       "lat_long        0\n",
       "full_details    0\n",
       "dtype: int64"
      ]
     },
     "execution_count": 3,
     "metadata": {},
     "output_type": "execute_result"
    }
   ],
   "source": [
    "# Read in the data\n",
    "data_df = pd.read_csv('restaurants_small.csv')\n",
    "\n",
    "# number of rows that contain null values\n",
    "data_df.isnull().sum()"
   ]
  },
  {
   "cell_type": "code",
   "execution_count": 4,
   "metadata": {},
   "outputs": [],
   "source": [
    "# we can drop the data but we can also drop data that we don't need\n",
    "data_df.dropna(inplace=True)"
   ]
  },
  {
   "cell_type": "code",
   "execution_count": 5,
   "metadata": {},
   "outputs": [],
   "source": [
    "data_df.to_csv('restaurants_small.csv', index=False)"
   ]
  },
  {
   "cell_type": "code",
   "execution_count": 6,
   "metadata": {},
   "outputs": [
    {
     "data": {
      "text/plain": [
       "id              0\n",
       "name            0\n",
       "location        0\n",
       "items           0\n",
       "lat_long        0\n",
       "full_details    0\n",
       "dtype: int64"
      ]
     },
     "execution_count": 6,
     "metadata": {},
     "output_type": "execute_result"
    }
   ],
   "source": [
    "data_df.isnull().sum()"
   ]
  },
  {
   "cell_type": "code",
   "execution_count": 7,
   "metadata": {},
   "outputs": [
    {
     "data": {
      "text/plain": [
       "True"
      ]
     },
     "execution_count": 7,
     "metadata": {},
     "output_type": "execute_result"
    }
   ],
   "source": [
    "pd.Series(data_df['id']).is_unique"
   ]
  },
  {
   "cell_type": "code",
   "execution_count": 8,
   "metadata": {},
   "outputs": [],
   "source": [
    "full_detail = data_df['full_details']"
   ]
  },
  {
   "cell_type": "code",
   "execution_count": 9,
   "metadata": {},
   "outputs": [],
   "source": [
    "full_detail_list_json = [json.loads(x) for x in full_detail]\n",
    "    "
   ]
  },
  {
   "cell_type": "code",
   "execution_count": 10,
   "metadata": {},
   "outputs": [
    {
     "ename": "AttributeError",
     "evalue": "'list' object has no attribute 'to_json'",
     "output_type": "error",
     "traceback": [
      "\u001b[0;31m---------------------------------------------------------------------------\u001b[0m",
      "\u001b[0;31mAttributeError\u001b[0m                            Traceback (most recent call last)",
      "Cell \u001b[0;32mIn[10], line 1\u001b[0m\n\u001b[0;32m----> 1\u001b[0m full_detail_list_json\u001b[39m.\u001b[39;49mto_json(\u001b[39m'\u001b[39m\u001b[39mfull_details.json\u001b[39m\u001b[39m'\u001b[39m, orient\u001b[39m=\u001b[39m\u001b[39m'\u001b[39m\u001b[39mrecords\u001b[39m\u001b[39m'\u001b[39m)\n",
      "\u001b[0;31mAttributeError\u001b[0m: 'list' object has no attribute 'to_json'"
     ]
    }
   ],
   "source": [
    "# full_detail_list_json.to_json('full_details.json', orient='records')"
   ]
  },
  {
   "cell_type": "code",
   "execution_count": 13,
   "metadata": {},
   "outputs": [
    {
     "data": {
      "text/plain": [
       "id                                                          11116\n",
       "name                                           Udupi Thaja Thindi\n",
       "location                                                      BTM\n",
       "items           {\"2 Idli with 1 Vada\": \"60.00 \", \"Masala Dosa\"...\n",
       "lat_long                              12.9152311463,77.6001443714\n",
       "full_details    {\"name\": \"Udupi Thaja Thindi\", \"offers\": [], \"...\n",
       "Name: 0, dtype: object"
      ]
     },
     "execution_count": 13,
     "metadata": {},
     "output_type": "execute_result"
    }
   ],
   "source": [
    "data_df.iloc[0]"
   ]
  },
  {
   "cell_type": "code",
   "execution_count": 14,
   "metadata": {},
   "outputs": [
    {
     "name": "stdout",
     "output_type": "stream",
     "text": [
      "11116\n",
      "Udupi Thaja Thindi\n",
      "BTM\n",
      "{\"2 Idli with 1 Vada\": \"60.00 \", \"Masala Dosa\": \"60.00 \", \"Gobi Manchurian\": \"95.00 \", \"Tomato Soup\": \"75.00 \", \"Cream of Mushroom Soup\": \"80.00 \", \"Sweet Corn Soup\": \"70.00 \", \"Sweet Corn Veg Soup\": \"85.00 \", \"Manchow Soup\": \"95.00 \", \"Hot and Sour Soup\": \"95.00 \", \"Dal Fry\": \"120.00 \", \"Dal Tadka\": \"135.00 \", \"Dal Punjabi\": \"130.00 \", \"Dal Makhani\": \"135.00 \", \"Dal Methi\": \"135.00 \", \"Dal Kolhapuri\": \"135.00 \", \"Mixed Veg Curry\": \"175.00 \", \"Aloo Gobi\": \"150.00 \", \"Paneer Matar\": \"180.00 \", \"Paneer Chilli Masala\": \"180.00 \", \"Mushroom Chilli Masala\": \"180.00 \", \"Paneer Kadhai\": \"170.00 \", \"Paneer Korma\": \"170.00 \", \"Gobi Masala\": \"135.00 \", \"Mixed Veg Kadhai\": \"170.00 \", \"Veg Kolhapuri\": \"155.00 \", \"Veg Hyderabadi\": \"155.00 \", \"Veg Do Pyaza\": \"170.00 \", \"Veg Pepper Masala\": \"170.00 \", \"Navratan Korma\": \"170.00 \", \"Kaju Masala\": \"225.00 \", \"Malai Kofta\": \"170.00 \", \"Nargisi Kofta\": \"170.00 \", \"Paneer Kofta\": \"175.00 \", \"Veg Kofta\": \"175.00 \", \"Maharani Kofta\": \"175.00 \", \"Roti\": \"28.00 \", \"Kulcha\": \"35.00 \", \"Naan\": \"40.00 \", \"Butter Roti\": \"40.00 \", \"Butter Kulcha\": \"48.00 \", \"Butter Naan\": \"55.00 \", \"Stuffed Paratha\": \"75.00 \", \"Ghee Rice\": \"125.00 \", \"Jeera Rice\": \"125.00 \", \"Veg Biryani\": \"135.00 \", \"Veg Pulao\": \"120.00 \", \"Peas Biryani\": \"135.00 \", \"Mughlai Biryani\": \"135.00 \", \"Handi Biryani\": \"135.00 \", \"Peas Pulao\": \"115.00 \", \"Paneer Biryani\": \"135.00 \", \"Hyderabadi Biryani\": \"135.00 \", \"Basmati Plain Rice\": \"110.00 \", \"Veg Fried Rice\": \"125.00 \", \"Paneer Fried Rice\": \"125.00 \", \"Mushroom Fried Rice\": \"125.00 \", \"Schezwan Fried Rice\": \"130.00 \", \"Onion Chilli Fried Rice\": \"135.00 \", \"Baby Corn Fried Rice\": \"130.00 \", \"Paneer Noodles\": \"135.00 \", \"Mushroom Noodles\": \"125.00 \", \"Veg Noodles\": \"110.00 \", \"Shanghai Noodles\": \"135.00 \", \"Schezwan Noodles\": \"130.00 \", \"Gobi Chilli\": \"120.00 \", \"Gobi 65\": \"120.00 \", \"Baby Corn Manchurian\": \"135.00 \", \"Baby Corn Chilli\": \"135.00 \", \"Baby Corn 65\": \"135.00 \", \"Paneer Manchurian\": \"135.00 \", \"Paneer Chilli\": \"135.00 \", \"Paneer Lemon Dry\": \"135.00 \", \"Mushroom Pudina Chilli\": \"140.00 \", \"Mushroom Manchurian\": \"140.00 \", \"Mushroom Chilli\": \"140.00 \", \"Mushroom Pepper Dry\": \"140.00 \", \"Mushroom 65\": \"140.00 \", \"1 Idli with 1 Vada\": \"50.00 \", \"Rava idli\": \"42.00 \", \"Vada\": \"27.00 \", \"Kesari Bath\": \"27.00 \", \"Khara Bath\": \"27.00 \", \"Chow Chow Bath\": \"54.00 \", \"Rice Bath\": \"55.00 \", \"Pongal\": \"55.00 \", \"Curd Rice\": \"50.00 \", \"Ghee Masala Dosa\": \"70.00 \", \"Palak Masala Dosa\": \"70.00 \", \"Cheese Masala Dosa\": \"70.00 \", \"Mysore Masala Dosa\": \"70.00 \", \"Plain Dosa\": \"55.00 \", \"Rava Dosa\": \"70.00 \", \"Onion Dosa\": \"70.00 \", \"Poori Saagu\": \"65.00 \", \"Fruit Salad\": \"75.00 \", \"Fruit Salad with Ice Cream\": \"90.00 \", \"Gad Bad Ice Cream\": \"110.00 \", \"Cone Ice Cream\": \"45.00 \", \"Special Cone Ice Cream\": \"60.00 \", \"Vanilla Ice Cream [1 Scoop]\": \"60.00 \", \"Strawberry Ice Cream [1 Scoop]\": \"60.00 \", \"Chocolate Ice Cream [1 Scoop]\": \"75.00 \", \"Blackcurrant Ice Cream [1 Scoop]\": \"75.00 \", \"Pista Ice Cream [1 Scoop]\": \"70.00 \", \"Dry Fruit Ice Cream [1 Scoop]\": \"75.00 \", \"Butterscotch Ice Cream [1 Scoop]\": \"60.00 \", \"Pineapple Ice Cream [1 Scoop]\": \"60.00 \", \"Tutti Fruity Ice Cream [1 Scoop]\": \"70.00 \", \"Tea\": \"15.00 \", \"Coffee\": \"15.00 \", \"Badam Milk\": \"20.00 \", \"Milk\": \"15.00 \", \"Cold Coffee\": \"75.00 \", \"Lemon Tea\": \"20.00 \", \"Mosambi Juice\": \"65.00 \", \"Grape Juice\": \"55.00 \", \"Watermelon Juice\": \"55.00 \", \"Pomegranate Juice\": \"70.00 \", \"Pineapple Juice\": \"55.00 \", \"Lemon Juice\": \"45.00 \", \"Lassi\": \"50.00 \", \"Special Lassi\": \"60.00 \", \"Butter Milk\": \"35.00 \", \"Mineral Water [Small]\": \"20.00 \", \"Kiwi Fruit Juice\": \"105.00 \", \"Ice Cream with Milkshake\": \"95.00 \", \"Butter Fruit Milkshake\": \"90.00 \", \"Muskmelon Milkshake\": \"65.00 \", \"Apple Milkshake\": \"65.00 \", \"Sapota Milkshake\": \"70.00 \", \"Mango Milkshake\": \"60.00 \", \"Ragi Milkshake\": \"50.00 \"}\n",
      "12.9152311463,77.6001443714\n",
      "{\"name\": \"Udupi Thaja Thindi\", \"offers\": [], \"cuisines\": \"North Indian, South Indian, Chinese, Fast Food\", \"currency\": \"Rs.\", \"location\": {\"city\": \"Bangalore\", \"address\": \"Shop 26, Opposite Gopalan Innovation Mall, 2nd Stage, Bannerghatta Main Road, BTM, Bangalore\", \"city_id\": 4, \"zipcode\": \"\", \"latitude\": \"12.9152311463\", \"locality\": \"BTM\", \"longitude\": \"77.6001443714\", \"country_id\": 1, \"locality_verbose\": \"BTM, Bangalore\"}, \"price_range\": 1, \"user_rating\": {\"votes\": \"38\", \"rating_text\": \"Average\", \"rating_color\": \"FFBA00\", \"aggregate_rating\": \"2.7\"}, \"mezzo_provider\": \"OTHER\", \"order_deeplink\": \"\", \"has_table_booking\": 0, \"is_delivering_now\": 1, \"opentable_support\": 0, \"has_online_delivery\": 1, \"include_bogo_offers\": true, \"average_cost_for_two\": 250, \"switch_to_order_menu\": 0, \"is_book_form_web_view\": 0, \"book_form_web_view_url\": \"\", \"is_table_reservation_supported\": 0}\n"
     ]
    }
   ],
   "source": [
    "for i in data_df.iloc[0]:\n",
    "    print(i)"
   ]
  },
  {
   "cell_type": "code",
   "execution_count": null,
   "metadata": {},
   "outputs": [],
   "source": []
  }
 ],
 "metadata": {
  "kernelspec": {
   "display_name": ".venv",
   "language": "python",
   "name": "python3"
  },
  "language_info": {
   "codemirror_mode": {
    "name": "ipython",
    "version": 3
   },
   "file_extension": ".py",
   "mimetype": "text/x-python",
   "name": "python",
   "nbconvert_exporter": "python",
   "pygments_lexer": "ipython3",
   "version": "3.11.3"
  },
  "orig_nbformat": 4
 },
 "nbformat": 4,
 "nbformat_minor": 2
}
